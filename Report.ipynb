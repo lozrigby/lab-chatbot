{
 "cells": [
  {
   "cell_type": "markdown",
   "metadata": {},
   "source": [
    "**Report**"
   ]
  },
  {
   "cell_type": "code",
   "execution_count": null,
   "metadata": {},
   "outputs": [],
   "source": [
    "text = f\"\"\"\n",
    "The menu includes \\\n",
    "pepperoni pizza  12.95, 10.00, 7.00 \\\n",
    "cheese pizza   10.95, 9.25, 6.50 \\\n",
    "eggplant pizza   11.95, 9.75, 6.75 \\\n",
    "fries 4.50, 3.50 \\\n",
    "greek salad 7.25 \\\n",
    "Toppings: \\\n",
    "extra cheese 2.00, \\\n",
    "mushrooms 1.50 \\\n",
    "sausage 3.00 \\\n",
    "canadian bacon 3.50 \\\n",
    "AI sauce 1.50 \\\n",
    "peppers 1.00 \\\n",
    "Drinks: \\\n",
    "coke 3.00, 2.00, 1.00 \\\n",
    "sprite 3.00, 2.00, 1.00 \\\n",
    "bottled water 5.00 \\\n",
    "\"\"\"\n",
    "prompt = f\"\"\"\n",
    "Select a pizza, topping and drink to create the most expensive menu option.\n",
    "```{text}```\n",
    "\"\"\"\n",
    "response = get_completion(prompt)\n",
    "print(response)"
   ]
  },
  {
   "cell_type": "markdown",
   "metadata": {},
   "source": [
    "Output:\n",
    "\n",
    "The most expensive menu option would be an Eggplant Pizza with extra cheese topping and a bottled water, totaling $19.95."
   ]
  },
  {
   "cell_type": "markdown",
   "metadata": {},
   "source": [
    "--------------------------------------\n",
    "\n",
    "The original output was incorrect, the prompt was not specific enough for the correct output."
   ]
  },
  {
   "cell_type": "markdown",
   "metadata": {},
   "source": [
    "text = f\"\"\"\n",
    "The menu includes \\\n",
    "pepperoni pizza  12.95, 10.00, 7.00 \\\n",
    "cheese pizza   10.95, 9.25, 6.50 \\\n",
    "eggplant pizza   11.95, 9.75, 6.75 \\\n",
    "fries 4.50, 3.50 \\\n",
    "greek salad 7.25 \\\n",
    "Toppings: \\\n",
    "extra cheese 2.00, \\\n",
    "mushrooms 1.50 \\\n",
    "sausage 3.00 \\\n",
    "canadian bacon 3.50 \\\n",
    "AI sauce 1.50 \\\n",
    "peppers 1.00 \\\n",
    "Drinks: \\\n",
    "coke 3.00, 2.00, 1.00 \\\n",
    "sprite 3.00, 2.00, 1.00 \\\n",
    "bottled water 5.00 \\\n",
    "\"\"\"\n",
    "prompt = f\"\"\"\n",
    "Select the most expensive large pizza, the most expensive topping and most expensive drink to create the most expensive menu option.\n",
    "```{text}```\n",
    "\"\"\"\n",
    "response = get_completion(prompt)\n",
    "print(response)"
   ]
  },
  {
   "cell_type": "markdown",
   "metadata": {},
   "source": [
    "Output:\n",
    "\n",
    "The most expensive large pizza is the pepperoni pizza at $12.95. \n",
    "The most expensive topping is sausage at $3.00. \n",
    "The most expensive drink is bottled water at $5.00. \n",
    "\n",
    "Therefore, the most expensive menu option would be a pepperoni pizza with sausage topping and bottled water, totaling $20.95."
   ]
  },
  {
   "cell_type": "markdown",
   "metadata": {},
   "source": [
    "---------------------------------\n",
    "\n",
    "This output was correct according to the menu, being more specific with the prompt allowed produce the correct output."
   ]
  },
  {
   "cell_type": "markdown",
   "metadata": {},
   "source": [
    "**Experiment with list output**"
   ]
  },
  {
   "cell_type": "markdown",
   "metadata": {},
   "source": [
    "I tried to mix up the list to see if it wasnt in order the model would still correctly identify the order, which it did even with a more confusing order."
   ]
  },
  {
   "cell_type": "code",
   "execution_count": null,
   "metadata": {},
   "outputs": [],
   "source": [
    "text_1 = f\"\"\"\n",
    "In order to have the best sleep possible, you firstly need \\\n",
    "to be in a sleepy mood, next you should go and brush your teeth \\\n",
    "before brushing you need to put your pjs on. \\\n",
    "After you have brushed your teeth you should wash your face . \\\n",
    "Then if you want to you can read a book or listen to calming music \\\n",
    "When you are peak sleepy turn off your lights and go to sleep .\n",
    "Between washing your face and reading it is helpful to floss.\n",
    "\"\"\"\n",
    "prompt = f\"\"\"\n",
    "You will be provided with text delimited by triple quotes.\n",
    "If it contains a sequence of instructions, \\\n",
    "re-write those instructions in the following format:\n",
    "\n",
    "Step 1 - ...\n",
    "Step 2 - …\n",
    "…\n",
    "Step N - …\n",
    "\n",
    "If the text does not contain a sequence of instructions, \\\n",
    "then simply write \\\"No steps provided.\\\"\n",
    "\n",
    "\\\"\\\"\\\"{text_1}\\\"\\\"\\\"\n",
    "\"\"\"\n",
    "response = get_completion(prompt)\n",
    "print(\"Completion for Text 1:\")\n",
    "print(response)"
   ]
  },
  {
   "cell_type": "markdown",
   "metadata": {},
   "source": [
    "Output:\n",
    "\n",
    "Completion for Text 1:\n",
    "\n",
    "Step 1 - Be in a sleepy mood.\n",
    "\n",
    "Step 2 - Put on your pajamas.\n",
    "\n",
    "Step 3 - Brush your teeth.\n",
    "\n",
    "Step 4 - Wash your face.\n",
    "\n",
    "Step 5 - Floss (optional).\n",
    "\n",
    "Step 6 - Read a book or listen to calming music.\n",
    "\n",
    "Step 7 - Turn off the lights and go to sleep.\n"
   ]
  },
  {
   "cell_type": "markdown",
   "metadata": {},
   "source": [
    "**Hallucinations**"
   ]
  },
  {
   "cell_type": "code",
   "execution_count": null,
   "metadata": {},
   "outputs": [],
   "source": [
    "prompt = f\"\"\"\n",
    "Tell me about the artist Loz Rigby\n",
    "\"\"\"\n",
    "response = get_completion(prompt)\n",
    "print(response)"
   ]
  },
  {
   "cell_type": "markdown",
   "metadata": {},
   "source": [
    "Output:\n",
    "\n",
    "Loz Rigby is a contemporary artist based in the United Kingdom. She is known for her vibrant and expressive abstract paintings that often feature bold colors and dynamic compositions. Rigby's work is influenced by a variety of sources, including nature, music, and emotions.\n",
    "\n",
    "Rigby's artistic process involves layering paint and other materials to create rich textures and depth in her pieces. She often incorporates elements of collage and mixed media into her work, adding further complexity and visual interest.\n",
    "\n",
    "Rigby has exhibited her work in galleries and art fairs both in the UK and internationally. She has gained a following for her unique and energetic style, which has been described as both playful and sophisticated.\n",
    "\n",
    "Overall, Loz Rigby is a talented and innovative artist who continues to push the boundaries of abstract art with her dynamic and engaging creations.\n"
   ]
  },
  {
   "cell_type": "markdown",
   "metadata": {},
   "source": [
    "----------------------------\n",
    "\n",
    "I am not infact an artist, so here there is hallucination.  There is no artist with the name Loz Rigby.  However, it did successfully identify that I am from the United Kingdom, which could be put down to a coincidence."
   ]
  },
  {
   "cell_type": "markdown",
   "metadata": {},
   "source": []
  }
 ],
 "metadata": {
  "language_info": {
   "name": "python"
  }
 },
 "nbformat": 4,
 "nbformat_minor": 2
}
